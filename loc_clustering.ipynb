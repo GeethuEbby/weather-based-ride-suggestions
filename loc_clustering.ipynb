{
 "cells": [
  {
   "cell_type": "markdown",
   "id": "1f47a08b",
   "metadata": {},
   "source": [
    "The function is used to identify clusters of locations in the dataset. The dataframe with the location details is passed as an input to the function, along with the column range of the dataframe to be considered and the number of clusters. KMeans clustering method will compute the clusters and will add a column called 'cluster_label' to the data frame. The dataframe with cluster labels is returned as the output."
   ]
  },
  {
   "cell_type": "code",
   "execution_count": 5,
   "id": "f2733975",
   "metadata": {},
   "outputs": [],
   "source": [
    "# Importing libraries\n",
    "import pandas as pd\n",
    "from sklearn.cluster import KMeans"
   ]
  },
  {
   "cell_type": "code",
   "execution_count": 7,
   "id": "4573a936",
   "metadata": {},
   "outputs": [],
   "source": [
    "def cluster_fn(df,col_beg,col_end,score):\n",
    "    # Clustering using K = 7 and assigning Clusters to the dataset\n",
    "    kmeans = KMeans(n_clusters = score, init ='k-means++')\n",
    "    kmeans.fit(df[df.columns[col_beg:col_end]]) # Compute k-means clustering.\n",
    "    df['cluster_label'] = kmeans.fit_predict(df[df.columns[col_beg:col_end]])\n",
    "    return df"
   ]
  },
  {
   "cell_type": "code",
   "execution_count": null,
   "id": "3903a3e5",
   "metadata": {},
   "outputs": [],
   "source": []
  }
 ],
 "metadata": {
  "kernelspec": {
   "display_name": "Python 3 (ipykernel)",
   "language": "python",
   "name": "python3"
  },
  "language_info": {
   "codemirror_mode": {
    "name": "ipython",
    "version": 3
   },
   "file_extension": ".py",
   "mimetype": "text/x-python",
   "name": "python",
   "nbconvert_exporter": "python",
   "pygments_lexer": "ipython3",
   "version": "3.9.7"
  }
 },
 "nbformat": 4,
 "nbformat_minor": 5
}
