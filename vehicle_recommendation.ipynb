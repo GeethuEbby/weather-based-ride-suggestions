{
 "cells": [
  {
   "cell_type": "code",
   "execution_count": 13,
   "id": "f2733975",
   "metadata": {},
   "outputs": [],
   "source": [
    "import pandas as pd\n",
    "import math\n",
    "import numpy as np\n",
    "from math import cos, asin, sqrt"
   ]
  },
  {
   "cell_type": "code",
   "execution_count": 14,
   "id": "d95c9996",
   "metadata": {},
   "outputs": [],
   "source": [
    "# Identifiying the closest vehicles to the pedestrian\n",
    "# Implemented using the haversine formula. It determines the great-circle distance between two points on a sphere given their longitudes and latitudes. \n",
    "def distance(lat1, lon1, lat2, lon2 ):\n",
    "    p = 0.017453292519943295\n",
    "    hav = 0.5 - cos((lat2-lat1)*p)/2 + cos(lat1*p)*cos(lat2*p) * (1-cos((lon2-lon1)*p)) / 2\n",
    "    return 12742 * asin(sqrt(hav))\n",
    "\n",
    "def closest(data, v):\n",
    "    min_ = min(data, key=lambda p: distance(v[0][0],v[0][1],p[0],p[1]))\n",
    "    return min_\n",
    "def second_nearest(data, v):\n",
    "    return sorted(data, key=lambda p: distance(v[0][0],v[0][1],p[0],p[1]))[1]\n",
    "def third_nearest(data, v):\n",
    "    return sorted(data, key=lambda p: distance(v[0][0],v[0][1],p[0],p[1]))[2]\n"
   ]
  },
  {
   "cell_type": "code",
   "execution_count": 15,
   "id": "8e15c34e",
   "metadata": {},
   "outputs": [],
   "source": [
    "def veh_rec(ebike_travellers,veh_,rainy_days):\n",
    "    #rainy_days = rainy_days()\n",
    "    p_points = []  \n",
    "    p_name = []\n",
    "    electric_veh = []\n",
    "    # If rainy day is identified for the week, following code is executed to make vehicle recommendation.\n",
    "    # For the pedestrian's location, the latitude and longitude are passed to the functions to identify closest,second and third nearest location.\n",
    "    # Vehicle dataframe is identified that belongs to these closest locations and is of the preferred fuel type.\n",
    "    if len(rainy_days) > 0:\n",
    "        for grp_name, df_grp in ebike_travellers.groupby('person_id'):\n",
    "            for row in df_grp.itertuples():\n",
    "                if (row.traveller_name == \"Mary Jane\"): \n",
    "                    p_points.append([row.person_y, row.person_x])\n",
    "                    p_name.append([row.traveller_name])\n",
    "                    points = []\n",
    "                    for vgrp_name, df_vgrp in veh_.groupby('vehicle_id'):\n",
    "                        for vrow in df_vgrp.itertuples():\n",
    "                            points.append([vrow.lat, vrow.lon])\n",
    "                    #print(vrow)\n",
    "                    closest_row = closest(points, p_points)\n",
    "                    second_nearest_row = second_nearest(points, p_points)\n",
    "                    third_nearest_row = third_nearest(points, p_points)\n",
    "                    traveller_name = (row.traveller_name)\n",
    "                    fuel_ = (row.fuel_preference)\n",
    "                    electric_veh = veh_.loc[((veh_['lat'] == closest_row[0])|(veh_['lat'] == second_nearest_row[0])| (veh_['lat'] == third_nearest_row[0])) & ((veh_['fuel_type'] == 'electric') )]\n",
    "                elif (row.traveller_name == \"Alex Joe\"): \n",
    "                    p_points.append([row.person_y, row.person_x])\n",
    "                    p_name.append([row.traveller_name])\n",
    "                    points = []\n",
    "                    for vgrp_name, df_vgrp in veh_.groupby('vehicle_id'):\n",
    "                        for vrow in df_vgrp.itertuples():\n",
    "                            points.append([vrow.lat, vrow.lon])\n",
    "                    #print(vrow)\n",
    "                    closest_row = closest(points, p_points)\n",
    "                    second_nearest_row = second_nearest(points, p_points)\n",
    "                    third_nearest_row = third_nearest(points, p_points)\n",
    "                    traveller_name = (row.traveller_name)\n",
    "                    fuel_ = (row.fuel_preference)\n",
    "                    gas_veh = veh_.loc[((veh_['lat'] == closest_row[0])|(veh_['lat'] == second_nearest_row[0])| (veh_['lat'] == third_nearest_row[0])) & ((veh_['fuel_type'] == 'diesel') | (veh_['fuel_type'] == 'petrol'))]\n",
    "    return electric_veh,gas_veh,p_points,p_name\n"
   ]
  },
  {
   "cell_type": "code",
   "execution_count": null,
   "id": "4573a936",
   "metadata": {},
   "outputs": [],
   "source": []
  },
  {
   "cell_type": "code",
   "execution_count": null,
   "id": "1efe2b03",
   "metadata": {},
   "outputs": [],
   "source": []
  },
  {
   "cell_type": "code",
   "execution_count": null,
   "id": "702ba69c",
   "metadata": {},
   "outputs": [],
   "source": []
  },
  {
   "cell_type": "code",
   "execution_count": null,
   "id": "121b93df",
   "metadata": {},
   "outputs": [],
   "source": []
  },
  {
   "cell_type": "code",
   "execution_count": null,
   "id": "3903a3e5",
   "metadata": {},
   "outputs": [],
   "source": []
  }
 ],
 "metadata": {
  "kernelspec": {
   "display_name": "Python 3 (ipykernel)",
   "language": "python",
   "name": "python3"
  },
  "language_info": {
   "codemirror_mode": {
    "name": "ipython",
    "version": 3
   },
   "file_extension": ".py",
   "mimetype": "text/x-python",
   "name": "python",
   "nbconvert_exporter": "python",
   "pygments_lexer": "ipython3",
   "version": "3.9.7"
  }
 },
 "nbformat": 4,
 "nbformat_minor": 5
}
