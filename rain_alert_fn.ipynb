{
 "cells": [
  {
   "cell_type": "markdown",
   "id": "c826965f",
   "metadata": {},
   "source": [
    "The rainy_days() doesnot require any inputs. When invoked, the function will read the weather dataset and will identify days in the week with any probability of rain. Inorder to display the weekly weather data on the dashboard, we also identify the 7 day range from today; and store date, average temperature of the day, day also in list. Also a list with rainy days of the week is defined. The function returns rainy day names,week days,average temperatures of the weekdays and dates of the week from today."
   ]
  },
  {
   "cell_type": "code",
   "execution_count": 2,
   "id": "f2733975",
   "metadata": {},
   "outputs": [],
   "source": [
    "# Importing libraries\n",
    "import pandas as pd\n",
    "import datetime"
   ]
  },
  {
   "cell_type": "code",
   "execution_count": 4,
   "id": "bf36f584",
   "metadata": {},
   "outputs": [],
   "source": [
    "#Creating a column to identify chance of rain\n",
    "def rain_(row):  \n",
    "    if  'rain' in row['Weather']:\n",
    "        return 1\n",
    "    else:\n",
    "        return 0"
   ]
  },
  {
   "cell_type": "code",
   "execution_count": 5,
   "id": "976f2da4",
   "metadata": {},
   "outputs": [],
   "source": [
    "def rainy_days():\n",
    "    # File contains information about week's weather - hourly data\n",
    "    weather_df = pd.read_csv('WeeklyWeather.csv') \n",
    "    weather_df['Date'] =  pd.to_datetime(weather_df['Date'])\n",
    "    weather_df['hour_col'] = weather_df['Date'].dt.hour\n",
    "    weather_df = weather_df.apply(lambda x: x.str.lower() if x.dtype=='object' else x)\n",
    "\n",
    "    weather_df['rain'] = weather_df.apply(lambda row: rain_(row), axis=1)\n",
    "    # Identify days in the week with probability of rain\n",
    "    day_delta = datetime.timedelta(days=1)\n",
    "    start_date = datetime.date.today()\n",
    "    end_date = start_date + 7*day_delta\n",
    "\n",
    "    start_date = pd.to_datetime(start_date)\n",
    "    end_date = pd.to_datetime(end_date)\n",
    "    weekly_weather = weather_df[weather_df['Date'].between(start_date, end_date)]\n",
    "    #Reseting indexes to display in Weather card in dashboard\n",
    "    grpWkday = weekly_weather.groupby([weekly_weather['Date'].dt.date]).mean().reset_index()\n",
    "    grpWkday['Date'] = pd.to_datetime(grpWkday['Date'])\n",
    "    grpWkday['Weekday'] = grpWkday['Date'].dt.day_name()\n",
    "    # Identify days in the week with probability of rain\n",
    "    rainy_days = []\n",
    "    wkday = []\n",
    "    temptre = []\n",
    "    raindy = []\n",
    "    wkdate = []\n",
    "    for _, row in grpWkday.iterrows():\n",
    "        wkday.append(row[\"Weekday\"].capitalize())\n",
    "        wkdate.append(row[\"Date\"].date())\n",
    "        temptre.append(row[\"Temp\"])\n",
    "        raindy.append(row[\"rain\"])\n",
    "        if(row[\"rain\"] > 0):\n",
    "            rainy_days.append(row[\"Weekday\"])\n",
    "\n",
    "    #Create a list with rainy days of the week\n",
    "    rainy_days = list(dict.fromkeys(rainy_days))   \n",
    "    return rainy_days,wkday,temptre,wkdate"
   ]
  },
  {
   "cell_type": "code",
   "execution_count": null,
   "id": "3903a3e5",
   "metadata": {},
   "outputs": [],
   "source": []
  }
 ],
 "metadata": {
  "kernelspec": {
   "display_name": "Python 3 (ipykernel)",
   "language": "python",
   "name": "python3"
  },
  "language_info": {
   "codemirror_mode": {
    "name": "ipython",
    "version": 3
   },
   "file_extension": ".py",
   "mimetype": "text/x-python",
   "name": "python",
   "nbconvert_exporter": "python",
   "pygments_lexer": "ipython3",
   "version": "3.9.7"
  }
 },
 "nbformat": 4,
 "nbformat_minor": 5
}
