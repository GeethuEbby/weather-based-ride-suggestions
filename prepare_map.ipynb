{
 "cells": [
  {
   "cell_type": "markdown",
   "id": "67f4a06c",
   "metadata": {},
   "source": [
    "The map_html() function takes latitude and longitude of traveller, a subset of vehicles recommended for the passenger, preferred fuel type of passenger and passenger name as inputs. The function uses folium module to build a map which plots user location in blue marker point and vehicle locations in red marker points. The output ie, the map is stored as a HTML file, which is later used in the dashboard in an iframe. In order to ensure personalization, the HTML file is saved by appending the preferred fuel type to the filename."
   ]
  },
  {
   "cell_type": "code",
   "execution_count": 1,
   "id": "f2733975",
   "metadata": {},
   "outputs": [],
   "source": [
    "# Importing libraries\n",
    "import folium"
   ]
  },
  {
   "cell_type": "code",
   "execution_count": 2,
   "id": "1945f023",
   "metadata": {},
   "outputs": [],
   "source": [
    "def map_html(lat,lng,gas_veh_subset,fuel_type,p_name):\n",
    "    m = folium.Map(location=[lat, lng], zoom_start=15)\n",
    "\n",
    "    folium.Marker(location=[lat, lng],\n",
    "                  popup=str(p_name),\n",
    "                      icon= folium.Icon(icon=\"glyphicon-user\",color=\"blue\", icon_color='lightblue')).add_to(m)\n",
    "\n",
    "    for _, row in gas_veh_subset.iterrows():\n",
    "        folium.Marker(location=[row[\"lat\"], row[\"lon\"]],\n",
    "                      popup=row[\"driver_name\"]+\"---\"+row[\"vehicle_type\"]+\"---\"+row[\"fuel_type\"], \n",
    "                      icon= folium.Icon(icon=\"car\",prefix=\"fa\",color=\"red\", icon_color='lightblue')).add_to(m)\n",
    "\n",
    "    folium.CircleMarker(location=[lat, lng],\n",
    "                            radius=100, fill_color='blue').add_to(m)\n",
    "\n",
    "\n",
    "    m.save('maps/avail_'+fuel_type+'_veh.html')   \n",
    "    return\n",
    "    "
   ]
  },
  {
   "cell_type": "code",
   "execution_count": null,
   "id": "3903a3e5",
   "metadata": {},
   "outputs": [],
   "source": []
  }
 ],
 "metadata": {
  "kernelspec": {
   "display_name": "Python 3 (ipykernel)",
   "language": "python",
   "name": "python3"
  },
  "language_info": {
   "codemirror_mode": {
    "name": "ipython",
    "version": 3
   },
   "file_extension": ".py",
   "mimetype": "text/x-python",
   "name": "python",
   "nbconvert_exporter": "python",
   "pygments_lexer": "ipython3",
   "version": "3.9.7"
  }
 },
 "nbformat": 4,
 "nbformat_minor": 5
}
